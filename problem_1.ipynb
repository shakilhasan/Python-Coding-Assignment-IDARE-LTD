{
 "cells": [
  {
   "cell_type": "code",
   "execution_count": 1,
   "metadata": {},
   "outputs": [
    {
     "name": "stdout",
     "output_type": "stream",
     "text": [
      "[3, 4]\n",
      "[0, 0]\n",
      "[5, 8]\n"
     ]
    }
   ],
   "source": [
    "class Solution(object):\n",
    "   def searchRange(self, nums, target):\n",
    "      res = [0,0]\n",
    "      low = 0\n",
    "      high = len(nums)\n",
    "      while low<high:\n",
    "         mid = int(low + (high-low)//2)\n",
    "         if nums[mid] == target:\n",
    "            high = mid\n",
    "            res[0]=mid\n",
    "            res[1]=mid\n",
    "         elif nums[mid]<target:\n",
    "            low = mid+1\n",
    "         else:\n",
    "            high = mid\n",
    "      if res[0] == 0:\n",
    "         return res\n",
    "      low = res[0]+1\n",
    "      high = len(nums)\n",
    "      while low<high:\n",
    "         mid = int(low + (high-low)//2)\n",
    "         if nums[mid] == target:\n",
    "            low = mid+1\n",
    "            res[1] = mid\n",
    "         elif nums[mid] < target:\n",
    "            low = mid + 1\n",
    "         else:\n",
    "            high = mid\n",
    "      return res\n",
    "ob1 = Solution()\n",
    "print(ob1.searchRange([5,7,7,9,9,10], 9))\n",
    "print(ob1.searchRange([5,7,7,8,8,10], 4))\n",
    "print(ob1.searchRange([2,2,2,3,3,4,4,4,4,5,5,6], 4))\n"
   ]
  },
  {
   "cell_type": "code",
   "execution_count": null,
   "metadata": {},
   "outputs": [],
   "source": []
  }
 ],
 "metadata": {
  "kernelspec": {
   "display_name": "Python 3",
   "language": "python",
   "name": "python3"
  },
  "language_info": {
   "codemirror_mode": {
    "name": "ipython",
    "version": 3
   },
   "file_extension": ".py",
   "mimetype": "text/x-python",
   "name": "python",
   "nbconvert_exporter": "python",
   "pygments_lexer": "ipython3",
   "version": "3.5.2"
  }
 },
 "nbformat": 4,
 "nbformat_minor": 4
}
