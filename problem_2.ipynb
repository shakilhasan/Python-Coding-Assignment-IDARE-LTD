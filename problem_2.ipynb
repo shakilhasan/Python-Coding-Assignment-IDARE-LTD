{
 "cells": [
  {
   "cell_type": "code",
   "execution_count": 108,
   "metadata": {},
   "outputs": [
    {
     "data": {
      "image/png": "[encoded data removed]",
      "text/plain": [
       "<Figure size 432x288 with 1 Axes>"
      ]
     },
     "metadata": {
      "needs_background": "light"
     },
     "output_type": "display_data"
    }
   ],
   "source": [
    "import pandas as pd \n",
    "import numpy as np\n",
    "import matplotlib.pyplot as plt\n",
    "\n",
    "data = pd.read_csv(\"pressure.csv\") \n",
    "new_columns = data.columns.values\n",
    "new_columns[1] = 'Pressure'\n",
    "data.columns = new_columns\n",
    "\n",
    "data['Pressure'] = pd.to_numeric(data['Pressure'],errors='coerce')\n",
    "data = data.replace(np.nan, 0, regex=True)\n",
    "data['Pressure'] = data['Pressure'].astype(float)/1000000\n",
    "#data[\"Pressure\"][1:]= data[\"Pressure\"][1:]/1000000\n",
    "\n",
    "\n",
    "data['Internal Pressure Operation'] = pd.to_numeric(data['Internal Pressure Operation'],errors='coerce')\n",
    "data = data.replace(np.nan, 0, regex=True)\n",
    "data['Internal Pressure Operation'] = data['Internal Pressure Operation'].astype(float)\n",
    "\n",
    "x=data[\"Internal Pressure Operation\"][1:]\n",
    "y=data[\"Pressure\"][1:]\n",
    "plt.scatter(x, y)\n",
    "plt.show()"
   ]
  },
  {
   "cell_type": "code",
   "execution_count": null,
   "metadata": {},
   "outputs": [],
   "source": []
  }
 ],
 "metadata": {
  "kernelspec": {
   "display_name": "Python 3",
   "language": "python",
   "name": "python3"
  },
  "language_info": {
   "codemirror_mode": {
    "name": "ipython",
    "version": 3
   },
   "file_extension": ".py",
   "mimetype": "text/x-python",
   "name": "python",
   "nbconvert_exporter": "python",
   "pygments_lexer": "ipython3",
   "version": "3.7.7"
  }
 },
 "nbformat": 4,
 "nbformat_minor": 4
}
